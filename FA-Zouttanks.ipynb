{
 "cells": [
  {
   "cell_type": "markdown",
   "metadata": {},
   "source": [
    "# Gekoppelde tanks met zoutoplossingen"
   ]
  },
  {
   "cell_type": "markdown",
   "metadata": {},
   "source": [
    "concentratie tank = t_concentratie <br>\n",
    "tank inhoud = t_inhoud <br>\n",
    "concentratie(stapgrootte) = stapgrootte * (t_concentratie / t_inhoud)\n",
    "\n",
    "de bovenstaande vergelijking, geldt voor tank 1 en tank 2. <br>\n",
    "Ook voor de in en uitvoer stromen geldt deze vergelijking.\n",
    "\n",
    "de stapgrootte kun je hier ook wel zien als het aantal minuten dat het duurt. <br>\n",
    "Als er iedere minuut 10 kg zout in een tank van 100 liter stroomt heb je na 5 minuten: 5 * (10 / 100) = 0.5 kg zout per liter na 5 minuten.<br>\n",
    "Er van uitgaande dat er niets uit stroomt en geen water instroomt"
   ]
  },
  {
   "cell_type": "code",
   "execution_count": 1,
   "metadata": {},
   "outputs": [],
   "source": [
    "import numpy as np\n",
    "import matplotlib.pyplot as plt"
   ]
  },
  {
   "cell_type": "code",
   "execution_count": 2,
   "metadata": {},
   "outputs": [],
   "source": [
    "tank1_inhoud = 100 #begin tank 1 inhoud\n",
    "tank2_inhoud = 100 #begin tank 2 inhoud\n",
    "\n",
    "tank1_instroom = 6 #6 liter per minuut via ingang 1\n",
    "tank1_instroom_1 = 1 #1 liter per minuut via ingang 1\n",
    "\n",
    "tank2_instroom = 3 #3 liter per minuut\n",
    "\n",
    "tank1_concentratie_instroom = 0.2 #kg zout instroom per minuut\n",
    "\n",
    "tank1_uitstroom = 4 + 3 #7 liter uitstroom tank 1\n",
    "tank2_uitstroom = 3 #3 liter uitstroom tank 2"
   ]
  },
  {
   "cell_type": "code",
   "execution_count": 3,
   "metadata": {},
   "outputs": [],
   "source": [
    "#imports voor de slider moet in de cell staan\n",
    "from __future__ import print_function\n",
    "from ipywidgets import interact, interactive, fixed, interact_manual\n",
    "import ipywidgets as widgets\n",
    "\n",
    "def stepSize(duur, aant_stappen):\n",
    "    stapgrootte = duur / aant_stappen\n",
    "    \n",
    "    arrayBegin(stapgrootte, aant_stappen)"
   ]
  },
  {
   "cell_type": "code",
   "execution_count": 4,
   "metadata": {},
   "outputs": [],
   "source": [
    "def arrayBegin(stapgrootte, aantal_stappen):\n",
    "    tijd = stapgrootte * np.arange(aantal_stappen + 1) #lengte van array\n",
    "    zout1 = np.zeros(aantal_stappen + 1) #array van zoutconcentraties over de tijd\n",
    "    zout2 = np.zeros(aantal_stappen + 1) #array van zoutconcentraties over de tijd\n",
    "\n",
    "    zout1[0] = 0 #begin met 0 kg zout\n",
    "    zout2[0] = 20 #begin met 20 kg zout \n",
    "    \n",
    "    concentratieVerloopForwEu(zout1, zout2, aantal_stappen, stapgrootte, tijd)\n",
    "    concentratieVerloopHeun(zout1, zout2, aantal_stappen, stapgrootte, tijd)"
   ]
  },
  {
   "cell_type": "code",
   "execution_count": 5,
   "metadata": {},
   "outputs": [],
   "source": [
    "def concentratieVerloopForwEu(zout1, zout2, aantal_stappen, stapgrootte, tijd):\n",
    "    for stap in range(0, aantal_stappen):\n",
    "        tank1_concentratie_t_min1 = zout1[stap] / tank1_inhoud #concentratie bij de vorige stap\n",
    "        tank2_concentratie_t_min1 = zout2[stap] / tank2_inhoud #concentratie bij de vorige stap\n",
    "\n",
    "        tank1_instroom_kg_per_m = (tank1_concentratie_instroom * tank1_instroom) + (tank1_instroom_1 * tank2_concentratie_t_min1) #berekenen huidige kg zout instroom tank 1\n",
    "        tank2_instroom_kg_per_m = tank2_instroom * tank1_concentratie_t_min1 #berekenen huidige kg zout instroom tank 2\n",
    "\n",
    "        zout1[stap + 1] = zout1[stap] + stapgrootte * (tank1_instroom_kg_per_m - tank1_concentratie_t_min1 * tank1_uitstroom) #berekenen volgende concentratie\n",
    "        zout2[stap + 1] = zout2[stap] + stapgrootte * (tank2_instroom_kg_per_m - tank2_concentratie_t_min1 * tank2_uitstroom) #berekenen volgende concentratie\n",
    "    makePlot(zout1, zout2, tijd, 'Forward Euler')"
   ]
  },
  {
   "cell_type": "code",
   "execution_count": 6,
   "metadata": {},
   "outputs": [],
   "source": [
    "def concentratieVerloopHeun(zout1, zout2, aantal_stappen, stapgrootte, tijd):\n",
    "    for stap in range(1, aantal_stappen):\n",
    "        tank1_concentratie_t_min1 = ((zout1[stap - 1] / tank1_inhoud) + (zout1[stap] / tank1_inhoud)) / 2 #gemmiddelde concentratie, vorige en huidige stap\n",
    "        tank2_concentratie_t_min1 = ((zout2[stap - 1] / tank2_inhoud) + (zout2[stap] / tank1_inhoud)) / 2 #gemmiddelde concentratie, vorige en huidige stap\n",
    "\n",
    "        tank1_instroom_kg_per_m = (tank1_concentratie_instroom * tank1_instroom) + (tank1_instroom_1 * tank2_concentratie_t_min1) #berekenen huidige kg zout instroom tank 1\n",
    "        tank2_instroom_kg_per_m = tank2_instroom * tank1_concentratie_t_min1 #berekenen huidige kg zout instroom tank 2\n",
    "\n",
    "        zout1[stap + 1] = zout1[stap] + stapgrootte * (tank1_instroom_kg_per_m - tank1_concentratie_t_min1 * tank1_uitstroom) #berekenen huidige concentratie\n",
    "        zout2[stap + 1] = zout2[stap] + stapgrootte * (tank2_instroom_kg_per_m - tank2_concentratie_t_min1 * tank2_uitstroom) #berekenen huidige concentratie\n",
    "    makePlot(zout1, zout2, tijd, 'Heun')"
   ]
  },
  {
   "cell_type": "code",
   "execution_count": 9,
   "metadata": {},
   "outputs": [],
   "source": [
    "def makePlot(zout1, zout2, tijd, method):\n",
    "    fig, ax = plt.subplots()\n",
    "    ax.plot(tijd, zout1/100) #aantal zout berekenen per liter tank 1\n",
    "    ax.plot(tijd, zout2/100) #aantal zout berekenen per liter tank 2\n",
    "    ax.set_title('zoutconcentratie in de tank ' + method)\n",
    "    ax.set_xlabel('tijd (minuten)')\n",
    "    ax.set_ylabel('zout concentratie (kg / liter)')\n",
    "    plt.show()"
   ]
  },
  {
   "cell_type": "code",
   "execution_count": 10,
   "metadata": {},
   "outputs": [
    {
     "data": {
      "application/vnd.jupyter.widget-view+json": {
       "model_id": "9831d3bfd2344a7587b328b42e5775d5",
       "version_major": 2,
       "version_minor": 0
      },
      "text/plain": [
       "interactive(children=(IntSlider(value=240, description='duur', max=500, min=1), IntSlider(value=100, descripti…"
      ]
     },
     "metadata": {},
     "output_type": "display_data"
    },
    {
     "data": {
      "text/plain": [
       "<function __main__.stepSize(duur, aant_stappen)>"
      ]
     },
     "execution_count": 10,
     "metadata": {},
     "output_type": "execute_result"
    }
   ],
   "source": [
    "interact(stepSize, duur = widgets.IntSlider(min=1, max=500, step=1, value=240), aant_stappen = widgets.IntSlider(min=1, max=200, step=1, value=100))"
   ]
  },
  {
   "cell_type": "markdown",
   "metadata": {},
   "source": [
    "#### Bronnen:\n",
    "__[link interactieve slider](https://ipywidgets.readthedocs.io/en/latest/examples/Using%20Interact.html)__ <br>\n",
    "__[Inspiratie opdracht zouttank](https://canvas.hu.nl/courses/20312/pages/les-4-overzicht-opstellen-van-differentiaalvergelijkingen)__ <br>"
   ]
  },
  {
   "cell_type": "code",
   "execution_count": null,
   "metadata": {},
   "outputs": [],
   "source": []
  }
 ],
 "metadata": {
  "kernelspec": {
   "display_name": "Python 3",
   "language": "python",
   "name": "python3"
  },
  "language_info": {
   "codemirror_mode": {
    "name": "ipython",
    "version": 3
   },
   "file_extension": ".py",
   "mimetype": "text/x-python",
   "name": "python",
   "nbconvert_exporter": "python",
   "pygments_lexer": "ipython3",
   "version": "3.7.6"
  }
 },
 "nbformat": 4,
 "nbformat_minor": 4
}
